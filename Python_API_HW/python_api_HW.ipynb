{
 "cells": [
  {
   "cell_type": "code",
   "execution_count": 1,
   "metadata": {},
   "outputs": [],
   "source": [
    "import citipy\n"
   ]
  },
  {
   "cell_type": "code",
   "execution_count": 2,
   "metadata": {},
   "outputs": [],
   "source": [
    "#dependencies and Setup\n",
    "import matplotlib.pyplot as plt\n",
    "import pandas as pd \n",
    "import numpy as np\n",
    "import requests\n",
    "import time\n",
    "\n",
    "\n",
    "#import api keys\n",
    "import api_keys\n",
    "\n",
    "\n",
    "#imported pprintfor json\n",
    "from pprint import pprint\n",
    "\n",
    "#output file(csv)\n",
    "output_data_file = 'cities.csv'\n",
    "\n",
    "lat_range=(-90,90)\n",
    "lng_range=(-180,180)"
   ]
  },
  {
   "cell_type": "code",
   "execution_count": 3,
   "metadata": {},
   "outputs": [
    {
     "data": {
      "text/plain": [
       "615"
      ]
     },
     "execution_count": 3,
     "metadata": {},
     "output_type": "execute_result"
    }
   ],
   "source": [
    "#List for holding lat_lngs aand cities\n",
    "lat_lngs =[]\n",
    "cities=[]\n",
    "\n",
    "#Create a set of random lat and lng combinations\n",
    "lats = np.random.uniform(low=-90.000, high=90.000, size=1500)\n",
    "lngs =np.random.uniform(low=-180.000,high=180.000,size=1500)\n",
    "lat_lngs = zip(lats,lngs)\n",
    "\n",
    "#Creates a set of random lat and lng combination\n",
    "for lat_lng in lat_lngs:\n",
    "    city = citipy.nearest_city(lat_lng[0],lat_lng[1]).city_name\n",
    "    \n",
    "    if city not in cities:\n",
    "        cities.append(city)\n",
    "\n",
    "len_cities = len(cities)\n",
    "len_cities"
   ]
  },
  {
   "cell_type": "code",
   "execution_count": 4,
   "metadata": {},
   "outputs": [],
   "source": [
    "# OpenWeatherMap API Key\n",
    "api_key = api_keys.api_keys\n",
    "\n",
    "#Starting URL for Weather MAp API Call \n",
    "url = \"http://api.openweathermap.org/data/2.5/weather?units=Imperial&APPID=\" + api_key"
   ]
  },
  {
   "cell_type": "code",
   "execution_count": 5,
   "metadata": {},
   "outputs": [],
   "source": [
    "#Lists with values from the for loop\n",
    "temperature =[]\n",
    "humidity=[]\n",
    "cloudy=[]\n",
    "windspeed=[]\n",
    "latitude = []\n",
    "cities_name=[]\n",
    "#starting the for loop for list values\n",
    "for city in cities:\n",
    "    try:\n",
    "        # building the query \n",
    "        query_url = url+ '&q=' + city \n",
    "        cityweather = requests.get(query_url).json()\n",
    "        \n",
    "        temp = cityweather['main']['temp']\n",
    "        hum = cityweather['main']['humidity']\n",
    "        cloud = cityweather['clouds']['all']\n",
    "        wind=cityweather['wind']['speed']\n",
    "        lat_data=cityweather['coord']['lat'] \n",
    "        city_name = cityweather['name']\n",
    "        \n",
    "        temperature.append(temp)\n",
    "        humidity.append(hum)\n",
    "        cloudy.append(cloud)\n",
    "        windspeed.append(wind)\n",
    "        latitude.append(lat_data)\n",
    "        cities_name.append(city_name)\n",
    "    except:\n",
    "        pass\n",
    "# Used a try and except incase of any data that was unreadable to continue the program        \n"
   ]
  },
  {
   "cell_type": "code",
   "execution_count": 6,
   "metadata": {},
   "outputs": [
    {
     "data": {
      "text/html": [
       "<div>\n",
       "<style scoped>\n",
       "    .dataframe tbody tr th:only-of-type {\n",
       "        vertical-align: middle;\n",
       "    }\n",
       "\n",
       "    .dataframe tbody tr th {\n",
       "        vertical-align: top;\n",
       "    }\n",
       "\n",
       "    .dataframe thead th {\n",
       "        text-align: right;\n",
       "    }\n",
       "</style>\n",
       "<table border=\"1\" class=\"dataframe\">\n",
       "  <thead>\n",
       "    <tr style=\"text-align: right;\">\n",
       "      <th></th>\n",
       "      <th>temperature</th>\n",
       "      <th>humidity</th>\n",
       "      <th>cloudy</th>\n",
       "      <th>windspeed</th>\n",
       "      <th>latitude</th>\n",
       "      <th>cities</th>\n",
       "    </tr>\n",
       "  </thead>\n",
       "  <tbody>\n",
       "    <tr>\n",
       "      <th>0</th>\n",
       "      <td>86.91</td>\n",
       "      <td>87</td>\n",
       "      <td>32</td>\n",
       "      <td>6.76</td>\n",
       "      <td>5.93</td>\n",
       "      <td>Maimbung</td>\n",
       "    </tr>\n",
       "    <tr>\n",
       "      <th>1</th>\n",
       "      <td>35.52</td>\n",
       "      <td>97</td>\n",
       "      <td>8</td>\n",
       "      <td>20.51</td>\n",
       "      <td>60.14</td>\n",
       "      <td>Nanortalik</td>\n",
       "    </tr>\n",
       "    <tr>\n",
       "      <th>2</th>\n",
       "      <td>69.80</td>\n",
       "      <td>77</td>\n",
       "      <td>90</td>\n",
       "      <td>12.75</td>\n",
       "      <td>35.73</td>\n",
       "      <td>Hasaki</td>\n",
       "    </tr>\n",
       "    <tr>\n",
       "      <th>3</th>\n",
       "      <td>66.92</td>\n",
       "      <td>75</td>\n",
       "      <td>90</td>\n",
       "      <td>12.75</td>\n",
       "      <td>39.95</td>\n",
       "      <td>Kodiak</td>\n",
       "    </tr>\n",
       "    <tr>\n",
       "      <th>4</th>\n",
       "      <td>37.86</td>\n",
       "      <td>100</td>\n",
       "      <td>88</td>\n",
       "      <td>19.62</td>\n",
       "      <td>73.51</td>\n",
       "      <td>Dikson</td>\n",
       "    </tr>\n",
       "  </tbody>\n",
       "</table>\n",
       "</div>"
      ],
      "text/plain": [
       "   temperature  humidity  cloudy  windspeed  latitude      cities\n",
       "0        86.91        87      32       6.76      5.93    Maimbung\n",
       "1        35.52        97       8      20.51     60.14  Nanortalik\n",
       "2        69.80        77      90      12.75     35.73      Hasaki\n",
       "3        66.92        75      90      12.75     39.95      Kodiak\n",
       "4        37.86       100      88      19.62     73.51      Dikson"
      ]
     },
     "execution_count": 6,
     "metadata": {},
     "output_type": "execute_result"
    }
   ],
   "source": [
    "#building the data frame with pandas to be able to call data from\n",
    "weather_df = pd.DataFrame({'temperature':temperature,\n",
    "                           'humidity':humidity,\n",
    "                           'cloudy':cloudy,\n",
    "                           'windspeed':windspeed,\n",
    "                           'latitude':latitude,\n",
    "                           'cities':cities_name})\n",
    "weather_df.head()\n",
    "weather_df.to_csv('weather_df.csv')"
   ]
  },
  {
   "cell_type": "code",
   "execution_count": 7,
   "metadata": {},
   "outputs": [
    {
     "name": "stdout",
     "output_type": "stream",
     "text": [
      "From looking at the scatter plot, the results\n",
      "give us the insight that if the city is located between\n",
      "0-90 latitude, that you will have a higher temperature.\n",
      "If the city is located 0-90 then you will have a lower temperature.\n",
      "\n"
     ]
    },
    {
     "data": {
      "image/png": "[encoded data removed]",
      "text/plain": [
       "<Figure size 432x288 with 1 Axes>"
      ]
     },
     "metadata": {},
     "output_type": "display_data"
    }
   ],
   "source": [
    "#building plot for temp vs lat\n",
    "x_axis = weather_df['latitude']\n",
    "y_axis = weather_df['temperature']\n",
    "#min and max for x and y axis \n",
    "x_min =x_axis.min() -10\n",
    "y_max =y_axis.max() +10\n",
    "#titles for graph \n",
    "plt.title(\"Temperature Vs. Latitude\")\n",
    "plt.xlabel(\"Latitude\")\n",
    "plt.ylabel('Temperature')\n",
    "#building and printng the graph \n",
    "plt.scatter(x_axis,y_axis,marker='o',color='red')\n",
    "\n",
    "print('''From looking at the scatter plot, the results\n",
    "give us the insight that if the city is located between\n",
    "0-90 latitude, that you will have a higher temperature.\n",
    "If the city is located 0-90 then you will have a lower temperature.\n",
    "''')\n",
    "plt.savefig('Homework_files/Tempvslat.png')"
   ]
  },
  {
   "cell_type": "code",
   "execution_count": 8,
   "metadata": {},
   "outputs": [
    {
     "name": "stdout",
     "output_type": "stream",
     "text": [
      "\n",
      "    From looking at the scatter plot,'Humidity vs Latitude', \n",
      "    we are able to draw the conslsion that most cities between latitudes\n",
      "    -60 to 80 have a humidity range of60 to 100 percent humidity.\n",
      "\n"
     ]
    },
    {
     "data": {
      "image/png": "[encoded data removed]",
      "text/plain": [
       "<Figure size 432x288 with 1 Axes>"
      ]
     },
     "metadata": {},
     "output_type": "display_data"
    }
   ],
   "source": [
    "#building plot for humidity vs lat\n",
    "x_axis = weather_df['latitude']\n",
    "y_axis = weather_df['humidity']\n",
    "\n",
    "x_min =x_axis.min() -10\n",
    "y_max =y_axis.max() +10\n",
    "\n",
    "plt.title(\"Humidity Vs. Latitude\")\n",
    "plt.xlabel(\"Latitude\")\n",
    "plt.ylabel('Humidity')\n",
    "\n",
    "plt.scatter(x_axis,y_axis,marker='o',color='red')\n",
    "\n",
    "\n",
    "print('''\n",
    "    From looking at the scatter plot,'Humidity vs Latitude', \n",
    "    we are able to draw the conslsion that most cities between latitudes\n",
    "    -60 to 80 have a humidity range of60 to 100 percent humidity.\n",
    "''')\n",
    "plt.savefig('Homework_files/hum_lat.png')"
   ]
  },
  {
   "cell_type": "code",
   "execution_count": 9,
   "metadata": {},
   "outputs": [
    {
     "data": {
      "text/plain": [
       "<matplotlib.collections.PathCollection at 0x111861e10>"
      ]
     },
     "execution_count": 9,
     "metadata": {},
     "output_type": "execute_result"
    },
    {
     "data": {
      "image/png": "[encoded data removed]",
      "text/plain": [
       "<Figure size 432x288 with 1 Axes>"
      ]
     },
     "metadata": {},
     "output_type": "display_data"
    }
   ],
   "source": [
    "#building plot for cloudy vs lat\n",
    "x_axis = weather_df['latitude']\n",
    "y_axis = weather_df['cloudy']\n",
    "\n",
    "x_min =x_axis.min() -10\n",
    "y_max =y_axis.max() +10\n",
    "\n",
    "plt.title(\"Cloudiness Vs. Latitude\")\n",
    "plt.xlabel(\"Latitude\")\n",
    "plt.ylabel('Cloudiness')\n",
    "\n",
    "plt.scatter(x_axis,y_axis,marker='o',color='red')\n",
    "plt.savefig('Homework_files/Cloudvslat.png')"
   ]
  },
  {
   "cell_type": "code",
   "execution_count": 10,
   "metadata": {},
   "outputs": [
    {
     "name": "stdout",
     "output_type": "stream",
     "text": [
      " From looking at the scatter plot,'Windspeed Vs. Latitude', \n",
      "the results show us that cities closer to the latitude degree \n",
      "of zero have a lower windspeed, whereas the cities father from \n",
      "a zero latitude have a higher windspeed.\n",
      "\n"
     ]
    },
    {
     "data": {
      "image/png": "[encoded data removed]",
      "text/plain": [
       "<Figure size 432x288 with 1 Axes>"
      ]
     },
     "metadata": {},
     "output_type": "display_data"
    }
   ],
   "source": [
    "#building plot for windstorm vs lat\n",
    "x_axis = weather_df['latitude']\n",
    "y_axis = weather_df['windspeed']\n",
    "\n",
    "x_min =x_axis.min() -10\n",
    "y_max =y_axis.max() +10\n",
    "\n",
    "plt.title(\"Windspeed Vs. Latitude\")\n",
    "plt.xlabel(\"Latitude\")\n",
    "plt.ylabel('Windspeed')\n",
    "\n",
    "plt.scatter(x_axis,y_axis,marker='o',color='red')\n",
    "print(''' From looking at the scatter plot,'Windspeed Vs. Latitude', \n",
    "the results show us that cities closer to the latitude degree \n",
    "of zero have a lower windspeed, whereas the cities father from \n",
    "a zero latitude have a higher windspeed.\n",
    "''')\n",
    "plt.savefig('Homework_files/windspeed.png')"
   ]
  },
  {
   "cell_type": "code",
   "execution_count": 11,
   "metadata": {},
   "outputs": [
    {
     "name": "stdout",
     "output_type": "stream",
     "text": [
      "{'base': 'stations',\n",
      " 'clouds': {'all': 0},\n",
      " 'cod': 200,\n",
      " 'coord': {'lat': 38.18, 'lon': -1.13},\n",
      " 'dt': 1538627400,\n",
      " 'id': 2517679,\n",
      " 'main': {'humidity': 77,\n",
      "          'pressure': 1019,\n",
      "          'temp': 59.9,\n",
      "          'temp_max': 60.8,\n",
      "          'temp_min': 59},\n",
      " 'name': 'Fortuna',\n",
      " 'sys': {'country': 'ES',\n",
      "         'id': 5464,\n",
      "         'message': 0.0047,\n",
      "         'sunrise': 1538632977,\n",
      "         'sunset': 1538674970,\n",
      "         'type': 1},\n",
      " 'visibility': 10000,\n",
      " 'weather': [{'description': 'clear sky',\n",
      "              'icon': '01n',\n",
      "              'id': 800,\n",
      "              'main': 'Clear'}],\n",
      " 'wind': {'speed': 1.12}}\n"
     ]
    }
   ],
   "source": [
    "pprint(cityweather)"
   ]
  },
  {
   "cell_type": "code",
   "execution_count": null,
   "metadata": {},
   "outputs": [],
   "source": []
  },
  {
   "cell_type": "code",
   "execution_count": null,
   "metadata": {},
   "outputs": [],
   "source": []
  },
  {
   "cell_type": "code",
   "execution_count": null,
   "metadata": {},
   "outputs": [],
   "source": []
  }
 ],
 "metadata": {
  "kernelspec": {
   "display_name": "PythonData",
   "language": "python",
   "name": "pythondata"
  },
  "language_info": {
   "codemirror_mode": {
    "name": "ipython",
    "version": 3
   },
   "file_extension": ".py",
   "mimetype": "text/x-python",
   "name": "python",
   "nbconvert_exporter": "python",
   "pygments_lexer": "ipython3",
   "version": "3.6.5"
  }
 },
 "nbformat": 4,
 "nbformat_minor": 2
}
